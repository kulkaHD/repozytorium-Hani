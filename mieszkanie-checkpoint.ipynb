{
 "cells": [
  {
   "cell_type": "code",
   "execution_count": 88,
   "id": "17881d09",
   "metadata": {},
   "outputs": [
    {
     "data": {
      "text/plain": [
       "153153.79"
      ]
     },
     "execution_count": 88,
     "metadata": {},
     "output_type": "execute_result"
    }
   ],
   "source": [
    "import numpy as np\n",
    "import numpy_financial as npf\n",
    "\n",
    "obecna_wartosc_mieszkania = 120000\n",
    "rateM = 0.05\n",
    "rateL = 0.12/12\n",
    "nperL = 5*12\n",
    "nperM = 5\n",
    "cena_mieszkania_za_5_lat  = np.around(obecna_wartosc_mieszkania * (1 + rateM)**nperM,2)\n",
    "cena_mieszkania_za_5_lat"
   ]
  },
  {
   "cell_type": "markdown",
   "id": "3cbf86c3",
   "metadata": {},
   "source": [
    "# Szacowana cena mieszkania po 5 latach wynosi 153153.79 zł"
   ]
  },
  {
   "cell_type": "markdown",
   "id": "f2073ba2",
   "metadata": {},
   "source": [
    "### Co miesiąc, przez 60 miesiecy, wrzucam tę samą kwotę x na lokatę.\n",
    "Co miesiąc kwota powieksza się o 1%.\n",
    "Kwota wrzucona pierwszego miesiąca będzie pracowała przez 60 miesiecy.\n",
    "Także:\n",
    "```\n",
    "pierwszy x będzie pracował x*(1,01)**60\n",
    "drugi odłozony x będzie pracował x*(1,01)**59\n",
    "trzeci odłozony x będzie pracował x*(1,01)**58\n",
    "...\n",
    "...\n",
    "...\n",
    "sześcdziesiąty odłozony x będzie pracował x*(1,01)```\n",
    "Sumując te wszystkie odłożone x wraz z odsetkami mamy uzyskać 153 153, 79 zł"
   ]
  },
  {
   "cell_type": "code",
   "execution_count": 89,
   "id": "3af79736",
   "metadata": {},
   "outputs": [
    {
     "data": {
      "text/plain": [
       "array([60, 59, 58, 57, 56, 55, 54, 53, 52, 51, 50, 49, 48, 47, 46, 45, 44,\n",
       "       43, 42, 41, 40, 39, 38, 37, 36, 35, 34, 33, 32, 31, 30, 29, 28, 27,\n",
       "       26, 25, 24, 23, 22, 21, 20, 19, 18, 17, 16, 15, 14, 13, 12, 11, 10,\n",
       "        9,  8,  7,  6,  5,  4,  3,  2,  1])"
      ]
     },
     "execution_count": 89,
     "metadata": {},
     "output_type": "execute_result"
    }
   ],
   "source": [
    "periods = np.arange(60,0,-1)\n",
    "periods"
   ]
  },
  {
   "cell_type": "code",
   "execution_count": 90,
   "id": "d65d71c0",
   "metadata": {},
   "outputs": [
    {
     "data": {
      "text/plain": [
       "array([1.82, 1.8 , 1.78, 1.76, 1.75, 1.73, 1.71, 1.69, 1.68, 1.66, 1.64,\n",
       "       1.63, 1.61, 1.6 , 1.58, 1.56, 1.55, 1.53, 1.52, 1.5 , 1.49, 1.47,\n",
       "       1.46, 1.45, 1.43, 1.42, 1.4 , 1.39, 1.37, 1.36, 1.35, 1.33, 1.32,\n",
       "       1.31, 1.3 , 1.28, 1.27, 1.26, 1.24, 1.23, 1.22, 1.21, 1.2 , 1.18,\n",
       "       1.17, 1.16, 1.15, 1.14, 1.13, 1.12, 1.1 , 1.09, 1.08, 1.07, 1.06,\n",
       "       1.05, 1.04, 1.03, 1.02, 1.01])"
      ]
     },
     "execution_count": 90,
     "metadata": {},
     "output_type": "execute_result"
    }
   ],
   "source": [
    "oprocentowanie = np.around(np.array(1.01**periods),2)\n",
    "oprocentowanie"
   ]
  },
  {
   "cell_type": "code",
   "execution_count": 95,
   "id": "d0ef9998",
   "metadata": {},
   "outputs": [
    {
     "data": {
      "text/plain": [
       "1857.31"
      ]
     },
     "execution_count": 95,
     "metadata": {},
     "output_type": "execute_result"
    }
   ],
   "source": [
    "np.around(cena_mieszkania_za_5_lat/sum(oprocentowanie),2)"
   ]
  },
  {
   "cell_type": "markdown",
   "id": "2c02a35e",
   "metadata": {},
   "source": [
    "# Co miesiąc należy na lokatę wpłacać 1857.31 zł, aby po 5 latach móc kupić mieszkanie za 153 153 zł."
   ]
  }
 ],
 "metadata": {
  "kernelspec": {
   "display_name": "Python 3 (ipykernel)",
   "language": "python",
   "name": "python3"
  },
  "language_info": {
   "codemirror_mode": {
    "name": "ipython",
    "version": 3
   },
   "file_extension": ".py",
   "mimetype": "text/x-python",
   "name": "python",
   "nbconvert_exporter": "python",
   "pygments_lexer": "ipython3",
   "version": "3.9.13"
  }
 },
 "nbformat": 4,
 "nbformat_minor": 5
}
