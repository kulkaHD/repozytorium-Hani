{
 "cells": [
  {
   "cell_type": "markdown",
   "id": "772df5fd",
   "metadata": {},
   "source": [
    "# Jak się robi funkcję? Używamy słowa def. Następnie nazywamy naszą funkcję oraz, jeśli to konieczne, wypisujemy jej parametry w nawiasie."
   ]
  },
  {
   "cell_type": "code",
   "execution_count": 12,
   "id": "d27653f3",
   "metadata": {},
   "outputs": [],
   "source": [
    "def dodaj (x,y):\n",
    "    print (x+y)"
   ]
  },
  {
   "cell_type": "markdown",
   "id": "6e286888",
   "metadata": {},
   "source": [
    "# Aby wywołać funkcję należy wypisać jej nazwę, a do następujących po niej  nawiasach wpisać dwie liczby przedzielone przecinkiem."
   ]
  },
  {
   "cell_type": "code",
   "execution_count": 14,
   "id": "37a65087",
   "metadata": {},
   "outputs": [
    {
     "name": "stdout",
     "output_type": "stream",
     "text": [
      "5\n"
     ]
    }
   ],
   "source": [
    "dodaj (2,3)"
   ]
  }
 ],
 "metadata": {
  "kernelspec": {
   "display_name": "Python 3 (ipykernel)",
   "language": "python",
   "name": "python3"
  },
  "language_info": {
   "codemirror_mode": {
    "name": "ipython",
    "version": 3
   },
   "file_extension": ".py",
   "mimetype": "text/x-python",
   "name": "python",
   "nbconvert_exporter": "python",
   "pygments_lexer": "ipython3",
   "version": "3.9.13"
  }
 },
 "nbformat": 4,
 "nbformat_minor": 5
}
